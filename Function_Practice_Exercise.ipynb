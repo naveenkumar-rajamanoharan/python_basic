{
  "cells": [
    {
      "cell_type": "markdown",
      "metadata": {
        "id": "view-in-github",
        "colab_type": "text"
      },
      "source": [
        "<a href=\"https://colab.research.google.com/github/naveenkumar-rajamanoharan/python_basic/blob/master/Function_Practice_Exercise.ipynb\" target=\"_parent\"><img src=\"https://colab.research.google.com/assets/colab-badge.svg\" alt=\"Open In Colab\"/></a>"
      ]
    },
    {
      "cell_type": "markdown",
      "id": "afd63954",
      "metadata": {
        "id": "afd63954"
      },
      "source": [
        "WARMUP SECTION:\n",
        "LESSER OF TWO EVENS: Write a function that returns the lesser of two given numbers if both numbers are even, but returns the greater if one or both numbers are odd"
      ]
    },
    {
      "cell_type": "code",
      "source": [
        "from google.colab import drive\n",
        "drive.mount('/content/drive')"
      ],
      "metadata": {
        "id": "FvItI9Tah2ed"
      },
      "id": "FvItI9Tah2ed",
      "execution_count": null,
      "outputs": []
    },
    {
      "cell_type": "code",
      "execution_count": null,
      "id": "d86cba25",
      "metadata": {
        "id": "d86cba25"
      },
      "outputs": [],
      "source": [
        "def lesser_of_two_evens(x,y):\n",
        "    if x%2==0 and y%2==0:\n",
        "        return min(x,y)\n",
        "    else:\n",
        "        return max(x,y)"
      ]
    },
    {
      "cell_type": "code",
      "execution_count": null,
      "id": "4f550084",
      "metadata": {
        "id": "4f550084",
        "outputId": "0a58734c-80b7-4237-f4b4-7610099dbb22"
      },
      "outputs": [
        {
          "data": {
            "text/plain": [
              "2"
            ]
          },
          "execution_count": 2,
          "metadata": {},
          "output_type": "execute_result"
        }
      ],
      "source": [
        "lesser_of_two_evens(2,4)\n"
      ]
    },
    {
      "cell_type": "code",
      "execution_count": null,
      "id": "5e4cd025",
      "metadata": {
        "id": "5e4cd025",
        "outputId": "878b4435-9ea5-4f0b-8b39-a831acf4ad9d"
      },
      "outputs": [
        {
          "data": {
            "text/plain": [
              "5"
            ]
          },
          "execution_count": 3,
          "metadata": {},
          "output_type": "execute_result"
        }
      ],
      "source": [
        "lesser_of_two_evens(2,5)"
      ]
    },
    {
      "cell_type": "code",
      "execution_count": null,
      "id": "bc0523df",
      "metadata": {
        "id": "bc0523df",
        "outputId": "28517991-242d-4214-bd9b-cc2e0c8b3af4"
      },
      "outputs": [
        {
          "data": {
            "text/plain": [
              "['Naveen', 'kumar']"
            ]
          },
          "execution_count": 4,
          "metadata": {},
          "output_type": "execute_result"
        }
      ],
      "source": [
        "name=\"Naveen kumar\"\n",
        "name.split()\n"
      ]
    },
    {
      "cell_type": "markdown",
      "id": "e7d64d35",
      "metadata": {
        "id": "e7d64d35"
      },
      "source": [
        "ANIMAL CRACKERS: Write a function takes a two-word string and returns True if both words begin with same letter\n",
        "animal_crackers('Levelheaded Llama') --> True"
      ]
    },
    {
      "cell_type": "code",
      "execution_count": null,
      "id": "613d2262",
      "metadata": {
        "id": "613d2262"
      },
      "outputs": [],
      "source": [
        "def animal_crackers(name):\n",
        "    my_list=name.split()\n",
        "    if my_list[0][0]==my_list[1][0]:\n",
        "        return True\n",
        "    else:\n",
        "        return False"
      ]
    },
    {
      "cell_type": "code",
      "execution_count": null,
      "id": "860260bd",
      "metadata": {
        "id": "860260bd",
        "outputId": "215b251f-afb4-4950-ceca-066ca6f19862"
      },
      "outputs": [
        {
          "data": {
            "text/plain": [
              "True"
            ]
          },
          "execution_count": 6,
          "metadata": {},
          "output_type": "execute_result"
        }
      ],
      "source": [
        "animal_crackers('Levelheaded Llama')"
      ]
    },
    {
      "cell_type": "code",
      "execution_count": null,
      "id": "4eff1740",
      "metadata": {
        "id": "4eff1740",
        "outputId": "eac189ce-482b-4f39-f80c-4706a72f4fbe"
      },
      "outputs": [
        {
          "data": {
            "text/plain": [
              "False"
            ]
          },
          "execution_count": 7,
          "metadata": {},
          "output_type": "execute_result"
        }
      ],
      "source": [
        "animal_crackers('Crazy Kangaroo')"
      ]
    },
    {
      "cell_type": "code",
      "execution_count": null,
      "id": "a8501c69",
      "metadata": {
        "id": "a8501c69",
        "outputId": "e6f0e317-36e0-44d3-db1d-d92c4edc2dfe"
      },
      "outputs": [
        {
          "data": {
            "text/plain": [
              "['Naveen', 'kumar', 'R']"
            ]
          },
          "execution_count": 8,
          "metadata": {},
          "output_type": "execute_result"
        }
      ],
      "source": [
        "name=\"Naveen kumar R\"\n",
        "name.split()"
      ]
    },
    {
      "cell_type": "code",
      "execution_count": null,
      "id": "f0398859",
      "metadata": {
        "id": "f0398859"
      },
      "outputs": [],
      "source": [
        "List2=name.split()"
      ]
    },
    {
      "cell_type": "code",
      "execution_count": null,
      "id": "0cc6c497",
      "metadata": {
        "id": "0cc6c497",
        "outputId": "3d0cdec3-f3c7-40b1-a32d-f00f7913c55a"
      },
      "outputs": [
        {
          "data": {
            "text/plain": [
              "['Naveen', 'kumar', 'R']"
            ]
          },
          "execution_count": 10,
          "metadata": {},
          "output_type": "execute_result"
        }
      ],
      "source": [
        "List2"
      ]
    },
    {
      "cell_type": "code",
      "execution_count": null,
      "id": "7dd64677",
      "metadata": {
        "id": "7dd64677",
        "outputId": "74f54136-0bd5-464d-d45e-78e0bbb46bd7"
      },
      "outputs": [
        {
          "data": {
            "text/plain": [
              "'Naveen'"
            ]
          },
          "execution_count": 11,
          "metadata": {},
          "output_type": "execute_result"
        }
      ],
      "source": [
        "List2[0]"
      ]
    },
    {
      "cell_type": "markdown",
      "id": "209fc854",
      "metadata": {
        "id": "209fc854"
      },
      "source": [
        "MAKES TWENTY: Given two integers, return True if the sum of the integers is 20 or if one of the integers is 20. If not, return False"
      ]
    },
    {
      "cell_type": "code",
      "execution_count": null,
      "id": "e7ca760c",
      "metadata": {
        "id": "e7ca760c"
      },
      "outputs": [],
      "source": [
        "def makes_twenty(x,y):\n",
        "    if x+y==20 or x==20 or y==20:\n",
        "        return True\n",
        "    else:\n",
        "        return False"
      ]
    },
    {
      "cell_type": "code",
      "execution_count": null,
      "id": "99d84659",
      "metadata": {
        "id": "99d84659",
        "outputId": "b9f7b4d2-33db-4762-acc1-badb14dc7672"
      },
      "outputs": [
        {
          "data": {
            "text/plain": [
              "True"
            ]
          },
          "execution_count": 13,
          "metadata": {},
          "output_type": "execute_result"
        }
      ],
      "source": [
        "makes_twenty(20,10) "
      ]
    },
    {
      "cell_type": "code",
      "execution_count": null,
      "id": "8a256640",
      "metadata": {
        "id": "8a256640",
        "outputId": "886d1bdd-fe53-4abd-d8a5-7d6e3453bc94"
      },
      "outputs": [
        {
          "data": {
            "text/plain": [
              "True"
            ]
          },
          "execution_count": 14,
          "metadata": {},
          "output_type": "execute_result"
        }
      ],
      "source": [
        "makes_twenty(12,8)"
      ]
    },
    {
      "cell_type": "code",
      "execution_count": null,
      "id": "4d265561",
      "metadata": {
        "id": "4d265561",
        "outputId": "63f457f1-1fda-42b3-a6e3-8cfe8bf897ea"
      },
      "outputs": [
        {
          "data": {
            "text/plain": [
              "False"
            ]
          },
          "execution_count": 15,
          "metadata": {},
          "output_type": "execute_result"
        }
      ],
      "source": [
        "makes_twenty(2,3)"
      ]
    },
    {
      "cell_type": "code",
      "execution_count": null,
      "id": "3785c528",
      "metadata": {
        "id": "3785c528"
      },
      "outputs": [],
      "source": [
        "def old_macdonald(name):\n",
        "    out_name=name[:3].capitalize()+name[3:].capitalize()\n",
        "    return out_name\n"
      ]
    },
    {
      "cell_type": "code",
      "execution_count": null,
      "id": "e4bc80a6",
      "metadata": {
        "id": "e4bc80a6",
        "outputId": "275cc2ae-73ff-4635-eec8-282fb87e23db"
      },
      "outputs": [
        {
          "data": {
            "text/plain": [
              "'MacDonald'"
            ]
          },
          "execution_count": 17,
          "metadata": {},
          "output_type": "execute_result"
        }
      ],
      "source": [
        "old_macdonald('macdonald')"
      ]
    },
    {
      "cell_type": "code",
      "execution_count": null,
      "id": "cdd87946",
      "metadata": {
        "id": "cdd87946"
      },
      "outputs": [],
      "source": [
        "def master_yoda(name):\n",
        "    my_list=name.split()\n",
        "    my_list.reverse()\n",
        "    return my_list\n"
      ]
    },
    {
      "cell_type": "code",
      "execution_count": null,
      "id": "ba5fb6b4",
      "metadata": {
        "id": "ba5fb6b4"
      },
      "outputs": [],
      "source": [
        "name=\"I am in Home\"\n",
        "mlist=name.split()"
      ]
    },
    {
      "cell_type": "code",
      "execution_count": null,
      "id": "a27c6939",
      "metadata": {
        "id": "a27c6939",
        "outputId": "2177b9d5-45fd-4527-f402-e54b96378fbd"
      },
      "outputs": [
        {
          "data": {
            "text/plain": [
              "['I', 'am', 'in', 'Home']"
            ]
          },
          "execution_count": 20,
          "metadata": {},
          "output_type": "execute_result"
        }
      ],
      "source": [
        "mlist"
      ]
    },
    {
      "cell_type": "code",
      "execution_count": null,
      "id": "88ef3044",
      "metadata": {
        "id": "88ef3044"
      },
      "outputs": [],
      "source": [
        "mlist.reverse()"
      ]
    },
    {
      "cell_type": "code",
      "execution_count": null,
      "id": "096eb905",
      "metadata": {
        "id": "096eb905",
        "outputId": "05888f72-8cf7-46ec-af8f-e1d472d804c6"
      },
      "outputs": [
        {
          "data": {
            "text/plain": [
              "['Home', 'in', 'am', 'I']"
            ]
          },
          "execution_count": 22,
          "metadata": {},
          "output_type": "execute_result"
        }
      ],
      "source": [
        "mlist"
      ]
    },
    {
      "cell_type": "code",
      "execution_count": null,
      "id": "3950df7c",
      "metadata": {
        "id": "3950df7c",
        "outputId": "99476c83-9720-459a-960c-6468b08dd3e7"
      },
      "outputs": [
        {
          "data": {
            "text/plain": [
              "['home', 'am', 'I']"
            ]
          },
          "execution_count": 23,
          "metadata": {},
          "output_type": "execute_result"
        }
      ],
      "source": [
        "master_yoda('I am home')"
      ]
    },
    {
      "cell_type": "code",
      "execution_count": null,
      "id": "b56e34b4",
      "metadata": {
        "id": "b56e34b4",
        "outputId": "22dfa917-2ae4-44c4-b238-0ee3fe48c57c"
      },
      "outputs": [
        {
          "data": {
            "text/plain": [
              "['ready', 'are', 'We']"
            ]
          },
          "execution_count": 24,
          "metadata": {},
          "output_type": "execute_result"
        }
      ],
      "source": [
        "master_yoda('We are ready')"
      ]
    },
    {
      "cell_type": "code",
      "execution_count": null,
      "id": "15e845b4",
      "metadata": {
        "id": "15e845b4"
      },
      "outputs": [],
      "source": [
        "def almost_there(n):\n",
        "    if (n<=110 and n>=90) or (n<=210 and n>=190):\n",
        "        return True\n",
        "    else:\n",
        "        return False"
      ]
    },
    {
      "cell_type": "code",
      "execution_count": null,
      "id": "00a78abf",
      "metadata": {
        "id": "00a78abf",
        "outputId": "a0a64c49-4ecd-4add-8d41-3a03c471121a"
      },
      "outputs": [
        {
          "data": {
            "text/plain": [
              "True"
            ]
          },
          "execution_count": 26,
          "metadata": {},
          "output_type": "execute_result"
        }
      ],
      "source": [
        "almost_there(104)"
      ]
    },
    {
      "cell_type": "code",
      "execution_count": null,
      "id": "f711100e",
      "metadata": {
        "id": "f711100e",
        "outputId": "bc7c4104-c9ff-4d53-d5ad-1848c5b9f6e5"
      },
      "outputs": [
        {
          "data": {
            "text/plain": [
              "False"
            ]
          },
          "execution_count": 27,
          "metadata": {},
          "output_type": "execute_result"
        }
      ],
      "source": [
        "almost_there(150)"
      ]
    },
    {
      "cell_type": "code",
      "execution_count": null,
      "id": "12b81e0f",
      "metadata": {
        "id": "12b81e0f",
        "outputId": "cb37cae1-51ae-4c4d-f8dd-b8e9045d3ffb"
      },
      "outputs": [
        {
          "data": {
            "text/plain": [
              "True"
            ]
          },
          "execution_count": 28,
          "metadata": {},
          "output_type": "execute_result"
        }
      ],
      "source": [
        "almost_there(209)"
      ]
    },
    {
      "cell_type": "code",
      "execution_count": null,
      "id": "17aad00b",
      "metadata": {
        "id": "17aad00b"
      },
      "outputs": [],
      "source": []
    },
    {
      "cell_type": "markdown",
      "id": "0eddbdc2",
      "metadata": {
        "id": "0eddbdc2"
      },
      "source": [
        "LEVEL 2"
      ]
    },
    {
      "cell_type": "code",
      "execution_count": null,
      "id": "098b138a",
      "metadata": {
        "id": "098b138a"
      },
      "outputs": [],
      "source": [
        "def has_33(my_list):\n",
        "    for num in range(0,len(my_list)):\n",
        "        if my_list[num]==3:\n",
        "            if my_list[num+1]==3:\n",
        "                return True\n",
        "            else:\n",
        "                return False\n",
        "           "
      ]
    },
    {
      "cell_type": "code",
      "execution_count": null,
      "id": "e7b2451e",
      "metadata": {
        "id": "e7b2451e",
        "outputId": "67833088-450e-4571-ea3f-01ae9525c697"
      },
      "outputs": [
        {
          "data": {
            "text/plain": [
              "True"
            ]
          },
          "execution_count": 30,
          "metadata": {},
          "output_type": "execute_result"
        }
      ],
      "source": [
        "has_33([1, 3, 3])"
      ]
    },
    {
      "cell_type": "code",
      "execution_count": null,
      "id": "26518a8e",
      "metadata": {
        "id": "26518a8e",
        "outputId": "325bdcc1-67da-40c1-cab7-d2cc8e043398"
      },
      "outputs": [
        {
          "name": "stdout",
          "output_type": "stream",
          "text": [
            "0\n",
            "1\n",
            "2\n",
            "3\n"
          ]
        }
      ],
      "source": [
        "for num in range(0,len(List2)+1):\n",
        "    \n",
        "    print(num)"
      ]
    },
    {
      "cell_type": "code",
      "execution_count": null,
      "id": "79b7ede4",
      "metadata": {
        "id": "79b7ede4"
      },
      "outputs": [],
      "source": [
        "List3=[1,2,3,4,5]"
      ]
    },
    {
      "cell_type": "code",
      "execution_count": null,
      "id": "afcc8e0b",
      "metadata": {
        "id": "afcc8e0b",
        "outputId": "9aae4e74-559a-445c-e8d2-abb0df96ca6d"
      },
      "outputs": [
        {
          "name": "stdout",
          "output_type": "stream",
          "text": [
            "2 3\n"
          ]
        }
      ],
      "source": [
        "for num in range(0,len(List3)):\n",
        "    if List3[num]==3:\n",
        "        print(num,List3[num])"
      ]
    },
    {
      "cell_type": "code",
      "execution_count": null,
      "id": "1bc349b9",
      "metadata": {
        "id": "1bc349b9",
        "outputId": "f686774f-359b-4373-d067-46c7b66b4d9e"
      },
      "outputs": [
        {
          "data": {
            "text/plain": [
              "False"
            ]
          },
          "execution_count": 34,
          "metadata": {},
          "output_type": "execute_result"
        }
      ],
      "source": [
        "has_33([1, 3, 1, 3])"
      ]
    },
    {
      "cell_type": "code",
      "execution_count": null,
      "id": "023700ab",
      "metadata": {
        "id": "023700ab",
        "outputId": "678d5d77-fb87-49c9-a227-26e1b60ab857"
      },
      "outputs": [
        {
          "data": {
            "text/plain": [
              "False"
            ]
          },
          "execution_count": 35,
          "metadata": {},
          "output_type": "execute_result"
        }
      ],
      "source": [
        "has_33([3, 1, 3])"
      ]
    },
    {
      "cell_type": "markdown",
      "id": "c8e2d36b",
      "metadata": {
        "id": "c8e2d36b"
      },
      "source": [
        "PAPER DOLL"
      ]
    },
    {
      "cell_type": "code",
      "execution_count": null,
      "id": "fbee7743",
      "metadata": {
        "id": "fbee7743"
      },
      "outputs": [],
      "source": [
        "def paper_doll(text):\n",
        "    string1=\"\"\n",
        "    for letter in text:\n",
        "        string1=string1+letter*3\n",
        "    return string1"
      ]
    },
    {
      "cell_type": "code",
      "execution_count": null,
      "id": "f4bb3f8a",
      "metadata": {
        "id": "f4bb3f8a",
        "outputId": "5b0ebdaf-6673-4948-f1a3-b2ae42a296bb"
      },
      "outputs": [
        {
          "data": {
            "text/plain": [
              "'HHHeeellllllooo'"
            ]
          },
          "execution_count": 37,
          "metadata": {},
          "output_type": "execute_result"
        }
      ],
      "source": [
        "paper_doll('Hello')"
      ]
    },
    {
      "cell_type": "code",
      "execution_count": null,
      "id": "cc57e588",
      "metadata": {
        "id": "cc57e588",
        "outputId": "5726e88c-4efb-40f3-d00f-777462af2f9f"
      },
      "outputs": [
        {
          "data": {
            "text/plain": [
              "'MMMiiissssssiiissssssiiippppppiii'"
            ]
          },
          "execution_count": 38,
          "metadata": {},
          "output_type": "execute_result"
        }
      ],
      "source": [
        "paper_doll('Mississippi')"
      ]
    },
    {
      "cell_type": "markdown",
      "id": "f82253a5",
      "metadata": {
        "id": "f82253a5"
      },
      "source": [
        "BLACK JACK"
      ]
    },
    {
      "cell_type": "markdown",
      "id": "9e82fe15",
      "metadata": {
        "id": "9e82fe15"
      },
      "source": [
        " Given three integers between 1 and 11, if their sum is less than or equal to 21, return their sum. If their sum exceeds 21 and there's an eleven, reduce the total sum by 10. Finally, if the sum (even after adjustment) exceeds 21, return 'BUST'"
      ]
    },
    {
      "cell_type": "code",
      "execution_count": null,
      "id": "b25ac17c",
      "metadata": {
        "id": "b25ac17c"
      },
      "outputs": [],
      "source": [
        "def blackjack(a,b,c):\n",
        "    if a+b+c<=21:\n",
        "        return(a+b+c)\n",
        "    elif a+b+c>21:\n",
        "        if (a==11 or b==11 or c==11):\n",
        "            x=(a+b+c)-10\n",
        "            if x>21:\n",
        "                return(\"BUST\")\n",
        "            else:\n",
        "                return x\n",
        "        else:\n",
        "            return(\"BUST\")"
      ]
    },
    {
      "cell_type": "code",
      "execution_count": null,
      "id": "4b75577c",
      "metadata": {
        "id": "4b75577c",
        "outputId": "5db2fe73-7e2e-4362-ad3b-4ffb27721fdd"
      },
      "outputs": [
        {
          "data": {
            "text/plain": [
              "18"
            ]
          },
          "execution_count": 40,
          "metadata": {},
          "output_type": "execute_result"
        }
      ],
      "source": [
        "blackjack(5,6,7)"
      ]
    },
    {
      "cell_type": "code",
      "execution_count": null,
      "id": "61357cac",
      "metadata": {
        "id": "61357cac",
        "outputId": "969c9a2d-3129-4530-9535-104f6e7e84f8"
      },
      "outputs": [
        {
          "data": {
            "text/plain": [
              "'BUST'"
            ]
          },
          "execution_count": 41,
          "metadata": {},
          "output_type": "execute_result"
        }
      ],
      "source": [
        "blackjack(9,9,9)"
      ]
    },
    {
      "cell_type": "code",
      "execution_count": null,
      "id": "11ac009e",
      "metadata": {
        "id": "11ac009e",
        "outputId": "794deabc-d09a-400d-ae6a-a71a7f7776ea"
      },
      "outputs": [
        {
          "data": {
            "text/plain": [
              "19"
            ]
          },
          "execution_count": 42,
          "metadata": {},
          "output_type": "execute_result"
        }
      ],
      "source": [
        "blackjack(9,9,11)"
      ]
    },
    {
      "cell_type": "markdown",
      "id": "7a4fb755",
      "metadata": {
        "id": "7a4fb755"
      },
      "source": [
        "SUMMER OF 69\n",
        "\n",
        "SUMMER OF '69: Return the sum of the numbers in the array, except ignore sections of numbers starting with a 6 and extending to the next 9 (every 6 will be followed by at least one 9). Return 0 for no numbers."
      ]
    },
    {
      "cell_type": "code",
      "execution_count": null,
      "id": "de6c6176",
      "metadata": {
        "id": "de6c6176"
      },
      "outputs": [],
      "source": [
        "def summer_69(arr):\n",
        "    total = 0\n",
        "    add = True\n",
        "    for num in arr:\n",
        "        while add:\n",
        "            if num != 6:\n",
        "                total += num\n",
        "                break\n",
        "            else:\n",
        "                add = False\n",
        "        while not add:\n",
        "            if num != 9:\n",
        "                break\n",
        "            else:\n",
        "                add = True\n",
        "                break\n",
        "    return (f\"Total is {total} \")\n"
      ]
    },
    {
      "cell_type": "code",
      "execution_count": null,
      "id": "560bd1d9",
      "metadata": {
        "id": "560bd1d9",
        "outputId": "e57c876a-13dc-4e89-d1c4-d0b3c6594d54"
      },
      "outputs": [
        {
          "data": {
            "text/plain": [
              "'Total is 9 '"
            ]
          },
          "execution_count": 44,
          "metadata": {},
          "output_type": "execute_result"
        }
      ],
      "source": [
        "summer_69([1, 3, 5])"
      ]
    },
    {
      "cell_type": "code",
      "execution_count": null,
      "id": "2f4fae18",
      "metadata": {
        "id": "2f4fae18",
        "outputId": "bbbc6d04-6a68-4568-df22-096c705e18f7"
      },
      "outputs": [
        {
          "data": {
            "text/plain": [
              "'Total is 9 '"
            ]
          },
          "execution_count": 45,
          "metadata": {},
          "output_type": "execute_result"
        }
      ],
      "source": [
        "summer_69([4, 5, 6, 7, 8, 9]) "
      ]
    },
    {
      "cell_type": "code",
      "execution_count": null,
      "id": "c8795903",
      "metadata": {
        "id": "c8795903",
        "outputId": "f633f396-28a9-48cc-a848-45151f00a8a6"
      },
      "outputs": [
        {
          "data": {
            "text/plain": [
              "'Total is 14 '"
            ]
          },
          "execution_count": 46,
          "metadata": {},
          "output_type": "execute_result"
        }
      ],
      "source": [
        "summer_69([2, 1, 6, 9, 11])"
      ]
    },
    {
      "cell_type": "markdown",
      "id": "0fbc5340",
      "metadata": {
        "id": "0fbc5340"
      },
      "source": [
        "CHALLENGE PROBLEMS\n",
        "\n",
        "SPY GAME: Write a function that takes in a list of integers and returns True if it contains 007 in order\n",
        " spy_game([1,2,4,0,0,7,5]) --> True\n",
        " spy_game([1,0,2,4,0,5,7]) --> True\n",
        " spy_game([1,7,2,0,4,5,0]) --> False"
      ]
    },
    {
      "cell_type": "code",
      "execution_count": null,
      "id": "d55b43af",
      "metadata": {
        "id": "d55b43af"
      },
      "outputs": [],
      "source": [
        "def spy_game(nums):\n",
        "\n",
        "    code = [0,0,7,'x']\n",
        "    \n",
        "    for num in nums:\n",
        "        if num == code[0]:\n",
        "            code.pop(0)   # code.remove(num) also works\n",
        "       \n",
        "    return len(code) == 1"
      ]
    },
    {
      "cell_type": "code",
      "execution_count": null,
      "id": "5ad52be1",
      "metadata": {
        "id": "5ad52be1",
        "outputId": "b16a2282-b7fb-4980-9324-4152b5218aed"
      },
      "outputs": [
        {
          "data": {
            "text/plain": [
              "True"
            ]
          },
          "execution_count": 48,
          "metadata": {},
          "output_type": "execute_result"
        }
      ],
      "source": [
        " spy_game([1,2,4,0,0,7,5])"
      ]
    },
    {
      "cell_type": "code",
      "execution_count": null,
      "id": "68bf936e",
      "metadata": {
        "id": "68bf936e",
        "outputId": "a565ee7a-b5c3-44e8-c33c-6d8f82a976ec"
      },
      "outputs": [
        {
          "data": {
            "text/plain": [
              "False"
            ]
          },
          "execution_count": 49,
          "metadata": {},
          "output_type": "execute_result"
        }
      ],
      "source": [
        "spy_game([1,7,2,0,4,5,0])"
      ]
    },
    {
      "cell_type": "markdown",
      "id": "7fbc90bd",
      "metadata": {
        "id": "7fbc90bd"
      },
      "source": [
        "COUNT PRIMES: Write a function that returns the number of prime numbers that exist up to and including a given number\n",
        "count_primes(100) --> 25"
      ]
    },
    {
      "cell_type": "code",
      "execution_count": null,
      "id": "4fbd3cf8",
      "metadata": {
        "id": "4fbd3cf8"
      },
      "outputs": [],
      "source": [
        "def count_primes(num):\n",
        "    primes = [2]\n",
        "    x = 3\n",
        "    if num < 2:  # for the case of num = 0 or 1\n",
        "        return 0\n",
        "    while x <= num:\n",
        "        for y in range(3,x,2):  # test all odd factors up to x-1\n",
        "            if x%y == 0:\n",
        "                x += 2\n",
        "                break\n",
        "        else:\n",
        "            primes.append(x)\n",
        "            x += 2\n",
        "    print(primes)\n",
        "    return len(primes)"
      ]
    },
    {
      "cell_type": "code",
      "execution_count": null,
      "id": "2b3ed3c8",
      "metadata": {
        "id": "2b3ed3c8",
        "outputId": "28d39e55-08ca-42d1-8054-09a37bea2508"
      },
      "outputs": [
        {
          "name": "stdout",
          "output_type": "stream",
          "text": [
            "[2, 3, 5, 7, 11, 13, 17, 19, 23, 29, 31, 37, 41, 43, 47, 53, 59, 61, 67, 71, 73, 79, 83, 89, 97]\n"
          ]
        },
        {
          "data": {
            "text/plain": [
              "25"
            ]
          },
          "execution_count": 61,
          "metadata": {},
          "output_type": "execute_result"
        }
      ],
      "source": [
        "count_primes(100)"
      ]
    },
    {
      "cell_type": "code",
      "execution_count": null,
      "id": "c2259c4b",
      "metadata": {
        "id": "c2259c4b"
      },
      "outputs": [],
      "source": [
        "def count_primes1(num):\n",
        "    primes = [2]\n",
        "    x = 3\n",
        "    if num < 2:  # for the case of num = 0 or 1\n",
        "        return 0\n",
        "    while x <= num:\n",
        "        for y in range(3,x,2):  # test all odd factors up to x-1\n",
        "            if x%y == 0:\n",
        "                x += 2\n",
        "                break\n",
        "        primes.append(x)\n",
        "        x += 2\n",
        "    print(primes)\n",
        "    return len(primes)"
      ]
    },
    {
      "cell_type": "code",
      "execution_count": null,
      "id": "12f198b9",
      "metadata": {
        "id": "12f198b9",
        "outputId": "83245bff-296c-4219-803a-3a50805c255a"
      },
      "outputs": [
        {
          "name": "stdout",
          "output_type": "stream",
          "text": [
            "[2, 3, 5, 7, 11, 13, 17, 19, 23, 27, 29, 31, 35, 37, 41, 43, 47, 51, 53, 57, 59, 61, 65, 67, 71, 73, 77, 79, 83, 87, 89, 93, 97, 101]\n"
          ]
        },
        {
          "data": {
            "text/plain": [
              "34"
            ]
          },
          "execution_count": 54,
          "metadata": {},
          "output_type": "execute_result"
        }
      ],
      "source": [
        "count_primes1(100)"
      ]
    },
    {
      "cell_type": "code",
      "execution_count": null,
      "id": "e98ddeb2",
      "metadata": {
        "id": "e98ddeb2"
      },
      "outputs": [],
      "source": [
        "def print_big(letter):\n",
        "    patterns = {1:'  *  ',2:' * * ',3:'*   *',4:'*****',5:'**** ',6:'   * ',7:' *   ',8:'*   * ',9:'*    '}\n",
        "    alphabet = {'A':[1,2,4,3,3],'B':[5,3,5,3,5],'C':[4,9,9,9,4],'D':[5,3,3,3,5],'E':[4,9,4,9,4]}\n",
        "    for pattern in alphabet[letter.upper()]:\n",
        "        print(patterns[pattern])\n"
      ]
    },
    {
      "cell_type": "code",
      "execution_count": null,
      "id": "5df3e9e7",
      "metadata": {
        "id": "5df3e9e7",
        "outputId": "e4118f39-853b-4033-af14-cdf29ea5524c"
      },
      "outputs": [
        {
          "name": "stdout",
          "output_type": "stream",
          "text": [
            "**** \n",
            "*   *\n",
            "**** \n",
            "*   *\n",
            "**** \n"
          ]
        }
      ],
      "source": [
        "print_big(\"b\")"
      ]
    },
    {
      "cell_type": "code",
      "execution_count": null,
      "id": "d5f91a5a",
      "metadata": {
        "id": "d5f91a5a",
        "outputId": "8106b88e-2f1e-4909-a921-3044a1b5c36a"
      },
      "outputs": [
        {
          "name": "stdout",
          "output_type": "stream",
          "text": [
            "[1, 2, 4, 3, 3]\n",
            "  *  \n",
            " * * \n",
            "*****\n",
            "*   *\n",
            "*   *\n"
          ]
        }
      ],
      "source": [
        "patterns = {1:'  *  ',2:' * * ',3:'*   *',4:'*****',5:'**** ',6:'   * ',7:' *   ',8:'*   * ',9:'*    '}\n",
        "alphabet = {'A':[1,2,4,3,3],'B':[5,3,5,3,5],'C':[4,9,9,9,4],'D':[5,3,3,3,5],'E':[4,9,4,9,4]}\n",
        "c=alphabet[\"A\"]\n",
        "print(c)\n",
        "for num in c:\n",
        "    print(patterns[num])\n",
        "     \n"
      ]
    },
    {
      "cell_type": "code",
      "execution_count": null,
      "id": "7f1916ef",
      "metadata": {
        "colab": {
          "base_uri": "https://localhost:8080/"
        },
        "id": "7f1916ef",
        "outputId": "852e5a1a-a398-44a7-e724-6d7302c9853e"
      },
      "outputs": [
        {
          "output_type": "stream",
          "name": "stdout",
          "text": [
            "[3, 4, 5, 6, 7, 8, 9]\n"
          ]
        }
      ],
      "source": [
        "number=range(3,10)\n",
        "print(list(range(3,10)))"
      ]
    },
    {
      "cell_type": "code",
      "execution_count": null,
      "id": "ac670cbd",
      "metadata": {
        "colab": {
          "base_uri": "https://localhost:8080/"
        },
        "id": "ac670cbd",
        "outputId": "acca4daa-de4f-4963-d6c0-00b1fcbbacb8"
      },
      "outputs": [
        {
          "output_type": "stream",
          "name": "stdout",
          "text": [
            "30\n"
          ]
        }
      ],
      "source": [
        "a =10\n",
        "b =20\n",
        "print(a + b)"
      ]
    }
  ],
  "metadata": {
    "kernelspec": {
      "display_name": "Python 3 (ipykernel)",
      "language": "python",
      "name": "python3"
    },
    "language_info": {
      "codemirror_mode": {
        "name": "ipython",
        "version": 3
      },
      "file_extension": ".py",
      "mimetype": "text/x-python",
      "name": "python",
      "nbconvert_exporter": "python",
      "pygments_lexer": "ipython3",
      "version": "3.9.13"
    },
    "colab": {
      "provenance": [],
      "include_colab_link": true
    }
  },
  "nbformat": 4,
  "nbformat_minor": 5
}